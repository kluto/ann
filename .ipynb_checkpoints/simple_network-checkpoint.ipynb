{
 "cells": [
  {
   "cell_type": "code",
   "execution_count": 1,
   "metadata": {
    "collapsed": true
   },
   "outputs": [],
   "source": [
    "import numpy as np"
   ]
  },
  {
   "cell_type": "code",
   "execution_count": 2,
   "metadata": {
    "collapsed": true
   },
   "outputs": [],
   "source": [
    "# Main neural network class\n",
    "class NeuralNetwork(object):\n",
    "    def __init__(self):\n",
    "        # Network architecture\n",
    "        self.s_input = 2\n",
    "        self.s_output = 1\n",
    "        self.s_hidden1 = 3\n",
    "        # Weights dim implied by architecture\n",
    "        self.W1 = np.random.randn(self.s_input, self.s_hidden1)\n",
    "        self.W2 = np.random.randn(self.s_hidden1, self.s_output)\n",
    "        \n",
    "    def fwd_prop(self, N):\n",
    "        # hidden layer activity\n",
    "        self.z2 = np.dot(N, self.W1)\n",
    "        # hidden layer activation\n",
    "        self.a2 = self.sigmoid(self.z2)\n",
    "        # output layer activity\n",
    "        self.z3 = np.dot(self.a2, self.W2)\n",
    "        # output activity\n",
    "        a3 = self.sigmoid(self.z3)\n",
    "        return a3\n",
    "        \n",
    "    def sigmoid(z, deriv=False):\n",
    "        if deriv:\n",
    "            return z*(1-z)\n",
    "        return 1/(1+np.exp(-z))"
   ]
  },
  {
   "cell_type": "code",
   "execution_count": 3,
   "metadata": {
    "collapsed": true
   },
   "outputs": [],
   "source": []
  },
  {
   "cell_type": "code",
   "execution_count": 4,
   "metadata": {
    "scrolled": true
   },
   "outputs": [
    {
     "data": {
      "text/plain": [
       "array([[ 0.91149027,  0.45952072,  0.52532935],\n",
       "       [ 0.75173091,  0.69193093,  0.63021481],\n",
       "       [ 0.24768364,  0.08507971,  0.61374123]])"
      ]
     },
     "execution_count": 4,
     "metadata": {},
     "output_type": "execute_result"
    }
   ],
   "source": [
    "sigmoid(np.random.randn(3,3))\n"
   ]
  },
  {
   "cell_type": "code",
   "execution_count": null,
   "metadata": {
    "collapsed": true
   },
   "outputs": [],
   "source": [
    "X = np.array(([3,5], [5,1], [10,2]), dtype=float)\n",
    "y = np.array(([75], [82], [93]), dtype=float)\n",
    "\n",
    "X = X/np.amax(X, axis=0)\n",
    "y = y/100 #Max test score is 100"
   ]
  }
 ],
 "metadata": {
  "kernelspec": {
   "display_name": "Python [default]",
   "language": "python",
   "name": "python3"
  },
  "language_info": {
   "codemirror_mode": {
    "name": "ipython",
    "version": 3
   },
   "file_extension": ".py",
   "mimetype": "text/x-python",
   "name": "python",
   "nbconvert_exporter": "python",
   "pygments_lexer": "ipython3",
   "version": "3.5.2"
  }
 },
 "nbformat": 4,
 "nbformat_minor": 2
}
